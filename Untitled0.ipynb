{
  "nbformat": 4,
  "nbformat_minor": 0,
  "metadata": {
    "colab": {
      "name": "Untitled0.ipynb",
      "provenance": [],
      "collapsed_sections": [],
      "authorship_tag": "ABX9TyOcamhyFx9uXcw0ItthUxSF",
      "include_colab_link": true
    },
    "kernelspec": {
      "name": "python3",
      "display_name": "Python 3"
    }
  },
  "cells": [
    {
      "cell_type": "markdown",
      "metadata": {
        "id": "view-in-github",
        "colab_type": "text"
      },
      "source": [
        "<a href=\"https://colab.research.google.com/github/realsangil/Angular-practice/blob/master/Untitled0.ipynb\" target=\"_parent\"><img src=\"https://colab.research.google.com/assets/colab-badge.svg\" alt=\"Open In Colab\"/></a>"
      ]
    },
    {
      "cell_type": "markdown",
      "metadata": {
        "id": "Qwyxmm1vQsz6",
        "colab_type": "text"
      },
      "source": [
        "# 박상일\n",
        "\n",
        "대박사건이네 이거 개푠하네\n",
        "\n",
        "\n",
        "```go\n",
        "func name() {\n",
        "  fmt.Println(\"test\")\n",
        "}\n",
        "```\n",
        "\n"
      ]
    }
  ]
}